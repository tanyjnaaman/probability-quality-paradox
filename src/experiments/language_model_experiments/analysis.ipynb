{
 "cells": [
  {
   "cell_type": "code",
   "execution_count": null,
   "metadata": {},
   "outputs": [],
   "source": [
    "import matplotlib.pyplot as plt\n",
    "import pandas as pd\n",
    "import numpy as np\n",
    "\n",
    "from scipy.stats import pearsonr, spearmanr\n",
    "\n",
    "pd.set_option(\"display.width\", 80)\n",
    "pd.set_option(\"display.max_colwidth\", None)"
   ]
  },
  {
   "cell_type": "code",
   "execution_count": null,
   "metadata": {},
   "outputs": [],
   "source": [
    "df = pd.read_csv(\n",
    "    \"ethz-spylab-rlhf-7b-harmless_l256_promptseed42_numprompt500_numgenerations100_ancestral_scoredreward_scorednll.csv\"\n",
    ")\n",
    "df[\"generated_text\"] = df.apply(\n",
    "    lambda row: row[\"generated_text\"][len(row[\"prompt\"]) :], axis=1\n",
    ")\n",
    "df[\"log_probability\"] = -df[\"negative_log_probability\"]\n",
    "\n",
    "df = df.drop_duplicates()\n",
    "df.head()"
   ]
  },
  {
   "cell_type": "code",
   "execution_count": null,
   "metadata": {},
   "outputs": [],
   "source": [
    "df[[\"score\", \"negative_log_probability\", \"log_probability\"]].describe()"
   ]
  },
  {
   "cell_type": "code",
   "execution_count": null,
   "metadata": {},
   "outputs": [],
   "source": [
    "num_corpuses = 1000"
   ]
  },
  {
   "cell_type": "code",
   "execution_count": null,
   "metadata": {},
   "outputs": [],
   "source": [
    "# Sample level statistics\n",
    "print(\"===== Sample level statistics =====\")\n",
    "print(f\"Spearman: {spearmanr(df['score'], df['log_probability'])}\")\n",
    "print(f\"Pearson: {pearsonr(df['score'], df['log_probability'])}\")\n",
    "df.plot.scatter(y=\"score\", x=\"log_probability\", title=\"Samples\")\n",
    "plt.show()\n",
    "plt.close()\n",
    "\n",
    "# Corpus level\n",
    "print(\"===== Corpus level statistics =====\")\n",
    "# 1. Sample corpuses\n",
    "corpuses = {\n",
    "    corpus_seed: df.sample(len(df) * 2, random_state=corpus_seed, replace=True)\n",
    "    for corpus_seed in range(num_corpuses)\n",
    "}\n",
    "mean_corpuses_df = pd.DataFrame.from_dict({\n",
    "    corpus_seed: corpus[[\"score\", \"log_probability\"]].mean(axis=0)\n",
    "    for corpus_seed, corpus in corpuses.items()\n",
    "}).T\n",
    "print(\n",
    "    \"Spearman:\"\n",
    "    f\" {spearmanr(mean_corpuses_df['score'], mean_corpuses_df['log_probability'])}\"\n",
    ")\n",
    "print(\n",
    "    \"Pearson:\"\n",
    "    f\" {pearsonr(mean_corpuses_df['score'], mean_corpuses_df['log_probability'])}\"\n",
    ")\n",
    "mean_corpuses_df.plot.scatter(\n",
    "    y=\"score\",\n",
    "    x=\"log_probability\",\n",
    "    title=\"Means by corpus\",\n",
    ")\n",
    "plt.show()\n",
    "plt.close()"
   ]
  },
  {
   "cell_type": "code",
   "execution_count": null,
   "metadata": {},
   "outputs": [],
   "source": []
  }
 ],
 "metadata": {
  "kernelspec": {
   "display_name": "probability-quality-paradox",
   "language": "python",
   "name": "python3"
  },
  "language_info": {
   "codemirror_mode": {
    "name": "ipython",
    "version": 3
   },
   "file_extension": ".py",
   "mimetype": "text/x-python",
   "name": "python",
   "nbconvert_exporter": "python",
   "pygments_lexer": "ipython3",
   "version": "3.9.19"
  }
 },
 "nbformat": 4,
 "nbformat_minor": 2
}
