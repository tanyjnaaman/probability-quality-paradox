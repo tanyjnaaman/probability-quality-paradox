{
 "cells": [
  {
   "cell_type": "code",
   "execution_count": null,
   "metadata": {},
   "outputs": [],
   "source": [
    "import matplotlib.pyplot as plt\n",
    "import pandas as pd\n",
    "import numpy as np\n",
    "import os\n",
    "\n",
    "\n",
    "from scipy.stats import pearsonr, spearmanr\n",
    "\n",
    "pd.set_option(\"display.width\", 80)\n",
    "pd.set_option(\"display.max_colwidth\", None)"
   ]
  },
  {
   "cell_type": "code",
   "execution_count": null,
   "metadata": {},
   "outputs": [],
   "source": [
    "# A: load all data files and concat them\n",
    "data_files = os.listdir(\"data\")\n",
    "reward_df_files = sorted([\n",
    "    f\n",
    "    for f in data_files\n",
    "    if \"scoredreward_humanassistant_includeprompt\" in f and \"t1.0\" in f\n",
    "])\n",
    "nll_df_files = sorted([\n",
    "    f\n",
    "    for f in data_files\n",
    "    if \"scorednll\" in f and \"includeprompt\" not in f and \"t1.0\" in f\n",
    "])\n",
    "\n",
    "\n",
    "raw_reward_dfs = [pd.read_csv(f\"data/{f}\") for f in reward_df_files]\n",
    "raw_nll_dfs = [pd.read_csv(f\"data/{f}\") for f in nll_df_files]\n",
    "assert all([\n",
    "    r_df[[\"prompt\", \"generated_text\"]].equals(n_df[[\"prompt\", \"generated_text\"]])\n",
    "    for r_df, n_df in zip(raw_reward_dfs, raw_nll_dfs)\n",
    "])\n",
    "reward_df = pd.concat([r_df for r_df in raw_reward_dfs])\n",
    "nll_df = pd.concat([n_df for n_df in raw_nll_dfs])\n",
    "assert reward_df[[\"prompt\", \"generated_text\"]].equals(\n",
    "    nll_df[[\"prompt\", \"generated_text\"]]\n",
    ")\n",
    "\n",
    "# B: load specific files\n",
    "reward_df = pd.read_csv(\n",
    "    \"./data/ethz-spylab-rlhf-7b-harmless_l256_promptseed42_numprompt1000_numgenerations2_top_p095_t1.0_humanassistant_scoredreward_humanassistant_includeprompt.csv\"\n",
    ")\n",
    "nll_df = pd.read_csv(\n",
    "    \"./data/ethz-spylab-rlhf-7b-harmless_l256_promptseed42_numprompt1000_numgenerations2_top_p095_t1.0_humanassistant_scorednll.csv\"\n",
    ")\n",
    "assert reward_df[[\"prompt\", \"generated_text\"]].equals(\n",
    "    nll_df[[\"prompt\", \"generated_text\"]]\n",
    ")\n",
    "\n",
    "# Merge\n",
    "df = reward_df.merge(nll_df, on=[\"prompt\", \"generated_text\"])\n",
    "df[\"log_probability\"] = -df[\"negative_log_probability\"]\n",
    "df = df[df.apply(lambda row: len(row[\"generated_text\"]) > 0, axis=1)].drop_duplicates()\n",
    "df"
   ]
  },
  {
   "cell_type": "code",
   "execution_count": null,
   "metadata": {},
   "outputs": [],
   "source": [
    "df[[\"score\", \"log_probability\"]].describe()"
   ]
  },
  {
   "cell_type": "code",
   "execution_count": null,
   "metadata": {},
   "outputs": [],
   "source": [
    "num_corpuses = 1000"
   ]
  },
  {
   "cell_type": "code",
   "execution_count": null,
   "metadata": {},
   "outputs": [],
   "source": [
    "# 1. Sample level statistics\n",
    "print(\"===== Sample level statistics =====\")\n",
    "print(f\"Spearman: {spearmanr(df['score'], df['log_probability'])}\")\n",
    "print(f\"Pearson: {pearsonr(df['score'], df['log_probability'])}\")\n",
    "df.plot.scatter(y=\"score\", x=\"log_probability\", title=\"Samples\")\n",
    "plt.show()\n",
    "plt.close()\n",
    "\n",
    "# 2. Corpus level\n",
    "print(\"===== Corpus level statistics =====\")\n",
    "\n",
    "# 2.1 Sample corpuses\n",
    "corpuses = {\n",
    "    corpus_seed: df.sample(10 * len(df), random_state=corpus_seed, replace=True)\n",
    "    for corpus_seed in range(num_corpuses)\n",
    "}\n",
    "\n",
    "# 2.2. Compute means and plot\n",
    "mean_corpuses_df = pd.DataFrame.from_dict({\n",
    "    corpus_seed: corpus[[\"score\", \"log_probability\"]].mean(axis=0)\n",
    "    for corpus_seed, corpus in corpuses.items()\n",
    "}).T\n",
    "print(\n",
    "    \"Spearman:\"\n",
    "    f\" {spearmanr(mean_corpuses_df['score'], mean_corpuses_df['log_probability'])}\"\n",
    ")\n",
    "print(\n",
    "    \"Pearson:\"\n",
    "    f\" {pearsonr(mean_corpuses_df['score'], mean_corpuses_df['log_probability'])}\"\n",
    ")\n",
    "mean_corpuses_df.plot.scatter(\n",
    "    y=\"score\",\n",
    "    x=\"log_probability\",\n",
    "    title=\"Means by corpus\",\n",
    ")\n",
    "plt.show()\n",
    "plt.close()"
   ]
  }
 ],
 "metadata": {
  "kernelspec": {
   "display_name": "probability-quality-paradox",
   "language": "python",
   "name": "python3"
  },
  "language_info": {
   "codemirror_mode": {
    "name": "ipython",
    "version": 3
   },
   "file_extension": ".py",
   "mimetype": "text/x-python",
   "name": "python",
   "nbconvert_exporter": "python",
   "pygments_lexer": "ipython3",
   "version": "3.9.19"
  }
 },
 "nbformat": 4,
 "nbformat_minor": 2
}
